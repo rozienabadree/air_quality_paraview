{
 "cells": [
  {
   "cell_type": "markdown",
   "id": "b4d14e64",
   "metadata": {},
   "source": [
    "# Data Visualization with Matplotlib\n",
    "\n",
    "## The following codes were used to visualize our data using Matplotlib before using ParaView."
   ]
  },
  {
   "cell_type": "code",
   "execution_count": 2,
   "id": "da07bc24",
   "metadata": {},
   "outputs": [],
   "source": [
    "import matplotlib.pyplot as plt\n",
    "import pandas as pd\n",
    "\n",
    "# Load your dataset here\n",
    "air_quality_df = pd.read_csv('Air_Quality_V12.csv')\n",
    "\n",
    "# Identifying top locations for each specified pollutant\n",
    "def identify_top_locations_for_pollutants(df, pollutants, top_n=3):\n",
    "    top_locations = {}\n",
    "    for pollutant in pollutants:\n",
    "        pollutant_df = df[df['Name'] == pollutant]\n",
    "        top_cities = pollutant_df.groupby('Geo Place Name')['Data Value'].max().sort_values(ascending=False).head(top_n).index.tolist()\n",
    "        top_locations[pollutant] = top_cities\n",
    "    return top_locations\n",
    "\n",
    "# Function to plot and save the changes in pollutant levels over time for the top locations\n",
    "def plot_and_save_pollutant_trends(df, pollutant, locations, save_path):\n",
    "    plt.figure(figsize=(12, 6))\n",
    "\n",
    "    for location in locations:\n",
    "        location_data = df[(df['Name'] == pollutant) & (df['Geo Place Name'] == location)]\n",
    "        plt.plot(location_data['Start_Date'], location_data['Data Value'], label=location, marker='o')\n",
    "\n",
    "    plt.title(f'{pollutant} Levels Over Time in Top Locations')\n",
    "    plt.xlabel('Time')\n",
    "    plt.ylabel('Data Value')\n",
    "    plt.xticks(rotation=45)\n",
    "    plt.legend(title='Location')\n",
    "    plt.grid(True)\n",
    "    plt.tight_layout()\n",
    "\n",
    "    plt.savefig(save_path, format='png', dpi=300)\n",
    "    plt.close()\n",
    "\n",
    "# List of pollutants you're interested in\n",
    "pollutants = [\"Sulfur Dioxide (SO2)\", \"Nitrogen Dioxide (NO2)\", \"Fine Particulate Matter (PM2.5)\", \"Ozone (O3)\"]\n",
    "\n",
    "# Identify top locations for each pollutant\n",
    "top_locations_for_pollutants = identify_top_locations_for_pollutants(air_quality_df, pollutants)\n",
    "\n",
    "# Creating and saving plots for each pollutant\n",
    "for pollutant, locations in top_locations_for_pollutants.items():\n",
    "    save_path = f'{pollutant}_trends.png'\n",
    "    plot_and_save_pollutant_trends(air_quality_df, pollutant, locations, save_path)\n"
   ]
  },
  {
   "cell_type": "code",
   "execution_count": null,
   "id": "13ac8aca",
   "metadata": {},
   "outputs": [],
   "source": []
  }
 ],
 "metadata": {
  "kernelspec": {
   "display_name": "Python 3 (ipykernel)",
   "language": "python",
   "name": "python3"
  },
  "language_info": {
   "codemirror_mode": {
    "name": "ipython",
    "version": 3
   },
   "file_extension": ".py",
   "mimetype": "text/x-python",
   "name": "python",
   "nbconvert_exporter": "python",
   "pygments_lexer": "ipython3",
   "version": "3.10.9"
  }
 },
 "nbformat": 4,
 "nbformat_minor": 5
}
