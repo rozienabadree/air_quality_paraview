{
 "cells": [
  {
   "cell_type": "markdown",
   "id": "bda13bee",
   "metadata": {},
   "source": [
    "# Obtaining the GeoJSON Map\n",
    "\n",
    "## The codes below were used to pull map data from TomTom.  Please contact TomTom directly for an API key.  For API documentation, please see their Developer Portal."
   ]
  },
  {
   "cell_type": "code",
   "execution_count": null,
   "id": "5bb1fb04",
   "metadata": {},
   "outputs": [],
   "source": [
    "import requests\n",
    "import json\n",
    "\n",
    "def get_geojson_from_tomtom(api_key, query):\n",
    "    base_url = \"https://api.tomtom.com/search/2/search/\"\n",
    "    params = {\n",
    "        'key': api_key,\n",
    "        'query': query,\n",
    "        'limit': 1,\n",
    "        'format': 'json'\n",
    "    }\n",
    "\n",
    "    response = requests.get(base_url + f\"{query}.json\", params=params)\n",
    "    if response.status_code == 200:\n",
    "        return response.json()\n",
    "    else:\n",
    "        return None\n",
    "\n",
    "def save_to_file(data, filename):\n",
    "    with open(filename, 'w') as file:\n",
    "        json.dump(data, file, indent=4)\n",
    "\n",
    "api_key = 'API_KEY'\n",
    "query = 'SEARCH'\n",
    "geojson_data = get_geojson_from_tomtom(api_key, query)\n",
    "\n",
    "if geojson_data:\n",
    "    save_to_file(geojson_data, 'geojson.geojson')\n",
    "    print(\"Success\")\n",
    "else:\n",
    "    print(\"Failed\")"
   ]
  },
  {
   "cell_type": "code",
   "execution_count": null,
   "id": "e52812ed",
   "metadata": {},
   "outputs": [],
   "source": [
    "import pandas as pd\n",
    "\n",
    "file_path = 'Air_Quality_V12.csv'\n",
    "data = pd.read_csv(file_path)\n",
    "\n",
    "contaminants_to_remove = [\n",
    "    \"O3-Attributable Asthma Emergency Department Visits\",\n",
    "    \"O3-Attributable Asthma Hospitalizations\",\n",
    "    \"O3-Attributable Cardiac and Respiratory Deaths\",\n",
    "    \"PM2.5-Attributable Asthma Emergency Department Visits\",\n",
    "    \"PM2.5-Attributable Cardiovascular Hospitalizations (Adults 40 Yrs and Older)\",\n",
    "    \"PM2.5-Attributable Deaths\",\n",
    "    \"PM2.5-Attributable Respiratory Hospitalizations (Adults 20 Yrs and Older)\",\n",
    "    \"Traffic Density- Annual Vehicle Miles Traveled\",\n",
    "    \"Traffic Density- Annual Vehicle Miles Traveled for Cars\",\n",
    "    \"Traffic Density- Annual Vehicle Miles Traveled for Trucks\"\n",
    "]\n",
    "\n",
    "cleaned_data = data[~data['Contaminant'].isin(contaminants_to_remove)]\n",
    "cleaned_data.to_csv('cleaned_data.csv', index=False)"
   ]
  }
 ],
 "metadata": {
  "kernelspec": {
   "display_name": "Python 3 (ipykernel)",
   "language": "python",
   "name": "python3"
  },
  "language_info": {
   "codemirror_mode": {
    "name": "ipython",
    "version": 3
   },
   "file_extension": ".py",
   "mimetype": "text/x-python",
   "name": "python",
   "nbconvert_exporter": "python",
   "pygments_lexer": "ipython3",
   "version": "3.10.9"
  }
 },
 "nbformat": 4,
 "nbformat_minor": 5
}
