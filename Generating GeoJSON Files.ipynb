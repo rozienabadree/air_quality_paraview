{
 "cells": [
  {
   "cell_type": "code",
   "execution_count": null,
   "id": "29bd2d61",
   "metadata": {},
   "outputs": [],
   "source": [
    "from geojson import Point, LineString, Feature, FeatureCollection, dump\n",
    "import pandas as pd\n",
    "\n",
    "# load data file\n",
    "df = pd.read_csv('all_yearly_averages.csv')\n",
    "\n",
    "# list of toxins\n",
    "toxins = ['Air Toxics Concentrations- Average Benzene Concentrations',\n",
    "          'Air Toxics Concentrations- Average Formaldehyde Concentrations',\n",
    "          'Fine Particulate Matter (PM2.5)',\n",
    "          'Nitrogen Dioxide (NO2)',\n",
    "          'Ozone (O3)',\n",
    "          'Sulfur Dioxide (SO2)']\n",
    "\n",
    "# loop through borough, year, and toxin\n",
    "for borough in df['Borough'].unique():\n",
    "    for year in df['Year'].unique():\n",
    "        for toxin in toxins:\n",
    "            # filter for the current borough, year, and toxin\n",
    "            df_filtered = df[(df['Borough'] == borough) & (df['Year'] == year) & (df['Toxin'] == toxin)]\n",
    "\n",
    "            # extract information for geojson generation\n",
    "            entries = []\n",
    "            for idx, entry in df_filtered.iterrows():\n",
    "                entries.append(((entry['Longitude'], entry['Latitude']), entry['Data Value']))\n",
    "\n",
    "            # sort entries in ascending order, by their measured data value\n",
    "            entries.sort(key=lambda x: x[1])\n",
    "\n",
    "            # check if there are any entries for this combination of borough, year, and toxin\n",
    "            if not len(entries) == 0:\n",
    "                features = []\n",
    "                # adding points and connecting lines to list of features\n",
    "                for i in range(len(entries)):\n",
    "                    point = Point(entries[i][0])\n",
    "                    features.append(Feature(geometry=point, properties={\"measure\": entries[i][1]}))\n",
    "\n",
    "                    if not i == len(entries) - 1:\n",
    "                        line = LineString([entries[i][0], entries[i + 1][0]])\n",
    "                        features.append(Feature(geometry=line, properties={\"measure\": entries[i][1]}))\n",
    "\n",
    "                feature_collection = FeatureCollection(features)\n",
    "                with open(f'{borough}, {year} - {toxin}.geojson', 'w') as file:\n",
    "                    dump(feature_collection, file)"
   ]
  }
 ],
 "metadata": {
  "kernelspec": {
   "display_name": "Python 3 (ipykernel)",
   "language": "python",
   "name": "python3"
  },
  "language_info": {
   "codemirror_mode": {
    "name": "ipython",
    "version": 3
   },
   "file_extension": ".py",
   "mimetype": "text/x-python",
   "name": "python",
   "nbconvert_exporter": "python",
   "pygments_lexer": "ipython3",
   "version": "3.10.9"
  }
 },
 "nbformat": 4,
 "nbformat_minor": 5
}
